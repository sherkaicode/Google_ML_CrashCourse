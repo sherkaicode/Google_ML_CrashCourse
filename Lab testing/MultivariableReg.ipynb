{
 "cells": [
  {
   "cell_type": "code",
   "execution_count": null,
   "metadata": {},
   "outputs": [],
   "source": [
    "import numpy as np\n",
    "import pandas as pd\n",
    "\n",
    "# machine learning\n",
    "import keras\n",
    "# data visualization\n",
    "import plotly.express as px\n",
    "from plotly.subplots import make_subplots\n",
    "import plotly.graph_objects as go\n",
    "import seaborn as sns"
   ]
  },
  {
   "cell_type": "markdown",
   "metadata": {},
   "source": [
    "Load Data"
   ]
  },
  {
   "cell_type": "code",
   "execution_count": 5,
   "metadata": {},
   "outputs": [
    {
     "data": {
      "text/html": [
       "<div>\n",
       "<style scoped>\n",
       "    .dataframe tbody tr th:only-of-type {\n",
       "        vertical-align: middle;\n",
       "    }\n",
       "\n",
       "    .dataframe tbody tr th {\n",
       "        vertical-align: top;\n",
       "    }\n",
       "\n",
       "    .dataframe thead th {\n",
       "        text-align: right;\n",
       "    }\n",
       "</style>\n",
       "<table border=\"1\" class=\"dataframe\">\n",
       "  <thead>\n",
       "    <tr style=\"text-align: right;\">\n",
       "      <th></th>\n",
       "      <th>pT_j1</th>\n",
       "      <th>eta_j1</th>\n",
       "      <th>phi_j1</th>\n",
       "      <th>pT_j2</th>\n",
       "      <th>eta_j2</th>\n",
       "      <th>phi_j2</th>\n",
       "      <th>m_jj</th>\n",
       "      <th>tau21_j1</th>\n",
       "      <th>tau21_j2</th>\n",
       "      <th>tau32_j1</th>\n",
       "      <th>tau32_j2</th>\n",
       "      <th>met</th>\n",
       "      <th>phi_met</th>\n",
       "      <th>min_dPhi</th>\n",
       "      <th>ht</th>\n",
       "      <th>Unnamed: 15</th>\n",
       "    </tr>\n",
       "  </thead>\n",
       "  <tbody>\n",
       "  </tbody>\n",
       "</table>\n",
       "</div>"
      ],
      "text/plain": [
       "Empty DataFrame\n",
       "Columns: [pT_j1, eta_j1, phi_j1, pT_j2, eta_j2, phi_j2, m_jj, tau21_j1, tau21_j2, tau32_j1, tau32_j2, met, phi_met, min_dPhi, ht, Unnamed: 15]\n",
       "Index: []"
      ]
     },
     "execution_count": 5,
     "metadata": {},
     "output_type": "execute_result"
    }
   ],
   "source": [
    "data = pd.read_csv(\"sig_samples/sig_samples/rinv0_pTmin200GeV.txt\", sep = \" \")\n",
    "data.head(0)"
   ]
  },
  {
   "cell_type": "code",
   "execution_count": 11,
   "metadata": {},
   "outputs": [
    {
     "name": "stdout",
     "output_type": "stream",
     "text": [
      "Read dataset completed successfully.\n",
      "Total number of rows: 7895\n",
      "\n",
      "\n"
     ]
    },
    {
     "data": {
      "text/html": [
       "<div>\n",
       "<style scoped>\n",
       "    .dataframe tbody tr th:only-of-type {\n",
       "        vertical-align: middle;\n",
       "    }\n",
       "\n",
       "    .dataframe tbody tr th {\n",
       "        vertical-align: top;\n",
       "    }\n",
       "\n",
       "    .dataframe thead th {\n",
       "        text-align: right;\n",
       "    }\n",
       "</style>\n",
       "<table border=\"1\" class=\"dataframe\">\n",
       "  <thead>\n",
       "    <tr style=\"text-align: right;\">\n",
       "      <th></th>\n",
       "      <th>ht</th>\n",
       "      <th>met</th>\n",
       "      <th>m_jj</th>\n",
       "      <th>tau21_j1</th>\n",
       "      <th>tau21_j2</th>\n",
       "      <th>tau32_j1</th>\n",
       "      <th>tau32_j2</th>\n",
       "    </tr>\n",
       "  </thead>\n",
       "  <tbody>\n",
       "    <tr>\n",
       "      <th>0</th>\n",
       "      <td>2521.080</td>\n",
       "      <td>65.9754</td>\n",
       "      <td>2646.400</td>\n",
       "      <td>0.168509</td>\n",
       "      <td>0.455646</td>\n",
       "      <td>0.772128</td>\n",
       "      <td>0.596539</td>\n",
       "    </tr>\n",
       "    <tr>\n",
       "      <th>1</th>\n",
       "      <td>2646.920</td>\n",
       "      <td>73.7713</td>\n",
       "      <td>3537.040</td>\n",
       "      <td>0.390341</td>\n",
       "      <td>0.299602</td>\n",
       "      <td>0.316059</td>\n",
       "      <td>0.558199</td>\n",
       "    </tr>\n",
       "    <tr>\n",
       "      <th>2</th>\n",
       "      <td>1109.810</td>\n",
       "      <td>15.3179</td>\n",
       "      <td>1219.950</td>\n",
       "      <td>0.559273</td>\n",
       "      <td>0.541733</td>\n",
       "      <td>0.665168</td>\n",
       "      <td>0.793866</td>\n",
       "    </tr>\n",
       "    <tr>\n",
       "      <th>3</th>\n",
       "      <td>2439.700</td>\n",
       "      <td>87.1133</td>\n",
       "      <td>2425.430</td>\n",
       "      <td>0.517106</td>\n",
       "      <td>0.474470</td>\n",
       "      <td>0.610648</td>\n",
       "      <td>0.586094</td>\n",
       "    </tr>\n",
       "    <tr>\n",
       "      <th>4</th>\n",
       "      <td>3510.170</td>\n",
       "      <td>128.0180</td>\n",
       "      <td>3298.180</td>\n",
       "      <td>0.166202</td>\n",
       "      <td>0.621271</td>\n",
       "      <td>0.765165</td>\n",
       "      <td>0.334743</td>\n",
       "    </tr>\n",
       "    <tr>\n",
       "      <th>...</th>\n",
       "      <td>...</td>\n",
       "      <td>...</td>\n",
       "      <td>...</td>\n",
       "      <td>...</td>\n",
       "      <td>...</td>\n",
       "      <td>...</td>\n",
       "      <td>...</td>\n",
       "    </tr>\n",
       "    <tr>\n",
       "      <th>195</th>\n",
       "      <td>745.409</td>\n",
       "      <td>175.5570</td>\n",
       "      <td>928.230</td>\n",
       "      <td>0.682423</td>\n",
       "      <td>0.427676</td>\n",
       "      <td>0.544343</td>\n",
       "      <td>0.626117</td>\n",
       "    </tr>\n",
       "    <tr>\n",
       "      <th>196</th>\n",
       "      <td>3171.540</td>\n",
       "      <td>118.0100</td>\n",
       "      <td>3402.400</td>\n",
       "      <td>0.465119</td>\n",
       "      <td>0.170626</td>\n",
       "      <td>0.585994</td>\n",
       "      <td>0.741585</td>\n",
       "    </tr>\n",
       "    <tr>\n",
       "      <th>197</th>\n",
       "      <td>465.817</td>\n",
       "      <td>62.9264</td>\n",
       "      <td>479.631</td>\n",
       "      <td>0.607403</td>\n",
       "      <td>0.665929</td>\n",
       "      <td>0.724355</td>\n",
       "      <td>0.771348</td>\n",
       "    </tr>\n",
       "    <tr>\n",
       "      <th>198</th>\n",
       "      <td>2431.230</td>\n",
       "      <td>307.1510</td>\n",
       "      <td>3251.840</td>\n",
       "      <td>0.201895</td>\n",
       "      <td>0.285142</td>\n",
       "      <td>0.717277</td>\n",
       "      <td>0.511856</td>\n",
       "    </tr>\n",
       "    <tr>\n",
       "      <th>199</th>\n",
       "      <td>2669.180</td>\n",
       "      <td>76.6343</td>\n",
       "      <td>2623.390</td>\n",
       "      <td>0.440227</td>\n",
       "      <td>0.257365</td>\n",
       "      <td>0.177852</td>\n",
       "      <td>0.736058</td>\n",
       "    </tr>\n",
       "  </tbody>\n",
       "</table>\n",
       "<p>200 rows × 7 columns</p>\n",
       "</div>"
      ],
      "text/plain": [
       "           ht       met      m_jj  tau21_j1  tau21_j2  tau32_j1  tau32_j2\n",
       "0    2521.080   65.9754  2646.400  0.168509  0.455646  0.772128  0.596539\n",
       "1    2646.920   73.7713  3537.040  0.390341  0.299602  0.316059  0.558199\n",
       "2    1109.810   15.3179  1219.950  0.559273  0.541733  0.665168  0.793866\n",
       "3    2439.700   87.1133  2425.430  0.517106  0.474470  0.610648  0.586094\n",
       "4    3510.170  128.0180  3298.180  0.166202  0.621271  0.765165  0.334743\n",
       "..        ...       ...       ...       ...       ...       ...       ...\n",
       "195   745.409  175.5570   928.230  0.682423  0.427676  0.544343  0.626117\n",
       "196  3171.540  118.0100  3402.400  0.465119  0.170626  0.585994  0.741585\n",
       "197   465.817   62.9264   479.631  0.607403  0.665929  0.724355  0.771348\n",
       "198  2431.230  307.1510  3251.840  0.201895  0.285142  0.717277  0.511856\n",
       "199  2669.180   76.6343  2623.390  0.440227  0.257365  0.177852  0.736058\n",
       "\n",
       "[200 rows x 7 columns]"
      ]
     },
     "execution_count": 11,
     "metadata": {},
     "output_type": "execute_result"
    }
   ],
   "source": [
    "training_df = data[[\"ht\", \"met\", \"m_jj\", \"tau21_j1\", \"tau21_j2\", \"tau32_j1\", \"tau32_j2\"]]\n",
    "\n",
    "print('Read dataset completed successfully.')\n",
    "print('Total number of rows: {0}\\n\\n'.format(len(training_df.index)))\n",
    "training_df.head(200)"
   ]
  },
  {
   "cell_type": "code",
   "execution_count": 14,
   "metadata": {},
   "outputs": [
    {
     "name": "stdout",
     "output_type": "stream",
     "text": [
      "The headers are Empty DataFrame\n",
      "Columns: [ht, met, m_jj, tau21_j1, tau21_j2, tau32_j1, tau32_j2]\n",
      "Index: []\n",
      "Total number of rows: 7895\n",
      "\n",
      "\n",
      "There are 0 null values in the Feature ht\n",
      "There are 0 null values in the Feature met\n",
      "There are 0 null values in the Feature m_jj\n",
      "There are 0 null values in the Feature tau21_j1\n",
      "There are 0 null values in the Feature tau21_j2\n",
      "There are 0 null values in the Feature tau32_j1\n",
      "There are 0 null values in the Feature tau32_j2\n"
     ]
    }
   ],
   "source": [
    "#@title Code - View dataset statistics\n",
    "print('The headers are', training_df.head(0))\n",
    "print('Total number of rows: {0}\\n\\n'.format(len(training_df.index)))\n",
    "training_df.describe(include='all')\n",
    "\n",
    "columns = [\"ht\", \"met\", \"m_jj\", \"tau21_j1\", \"tau21_j2\", \"tau32_j1\", \"tau32_j2\"]\n",
    "for col in columns:\n",
    "    print(f\"There are {training_df[col].isnull().sum()} null values in the Feature {col}\")"
   ]
  },
  {
   "cell_type": "code",
   "execution_count": 20,
   "metadata": {},
   "outputs": [
    {
     "data": {
      "application/vnd.plotly.v1+json": {
       "config": {
        "plotlyServerURL": "https://plot.ly"
       },
       "data": [
        {
         "colorbar": {
          "tickformat": ".2f",
          "title": {
           "text": "Correlation"
          }
         },
         "colorscale": [
          [
           0,
           "#0d0887"
          ],
          [
           0.1111111111111111,
           "#46039f"
          ],
          [
           0.2222222222222222,
           "#7201a8"
          ],
          [
           0.3333333333333333,
           "#9c179e"
          ],
          [
           0.4444444444444444,
           "#bd3786"
          ],
          [
           0.5555555555555556,
           "#d8576b"
          ],
          [
           0.6666666666666666,
           "#ed7953"
          ],
          [
           0.7777777777777778,
           "#fb9f3a"
          ],
          [
           0.8888888888888888,
           "#fdca26"
          ],
          [
           1,
           "#f0f921"
          ]
         ],
         "type": "heatmap",
         "x": [
          "ht",
          "met",
          "m_jj",
          "tau21_j1",
          "tau21_j2",
          "tau32_j1",
          "tau32_j2"
         ],
         "y": [
          "ht",
          "met",
          "m_jj",
          "tau21_j1",
          "tau21_j2",
          "tau32_j1",
          "tau32_j2"
         ],
         "z": [
          [
           1,
           0.16295349436490453,
           0.8950940666380071,
           -0.3857852731024195,
           -0.41588155526823567,
           -0.3942780011142378,
           -0.3591215656812451
          ],
          [
           0.16295349436490453,
           1,
           0.10953052744989847,
           -0.07834808473279853,
           -0.10024483573334739,
           -0.09462650571282187,
           -0.0833810643178963
          ],
          [
           0.8950940666380071,
           0.10953052744989847,
           1,
           -0.3908163478303016,
           -0.4090924556254118,
           -0.39734147815619064,
           -0.3587434481471981
          ],
          [
           -0.3857852731024195,
           -0.07834808473279853,
           -0.3908163478303016,
           1,
           0.1857705545747815,
           0.0528171866273239,
           0.1417919394385208
          ],
          [
           -0.41588155526823567,
           -0.10024483573334739,
           -0.4090924556254118,
           0.1857705545747815,
           1,
           0.1749543093672542,
           0.09771051310247081
          ],
          [
           -0.3942780011142378,
           -0.09462650571282187,
           -0.39734147815619064,
           0.0528171866273239,
           0.1749543093672542,
           1,
           0.15459223805887198
          ],
          [
           -0.3591215656812451,
           -0.0833810643178963,
           -0.3587434481471981,
           0.1417919394385208,
           0.09771051310247081,
           0.15459223805887198,
           1
          ]
         ],
         "zmax": 1,
         "zmin": -1
        }
       ],
       "layout": {
        "height": 800,
        "margin": {
         "b": 50,
         "l": 50,
         "r": 50,
         "t": 70
        },
        "template": {
         "data": {
          "bar": [
           {
            "error_x": {
             "color": "#2a3f5f"
            },
            "error_y": {
             "color": "#2a3f5f"
            },
            "marker": {
             "line": {
              "color": "#E5ECF6",
              "width": 0.5
             },
             "pattern": {
              "fillmode": "overlay",
              "size": 10,
              "solidity": 0.2
             }
            },
            "type": "bar"
           }
          ],
          "barpolar": [
           {
            "marker": {
             "line": {
              "color": "#E5ECF6",
              "width": 0.5
             },
             "pattern": {
              "fillmode": "overlay",
              "size": 10,
              "solidity": 0.2
             }
            },
            "type": "barpolar"
           }
          ],
          "carpet": [
           {
            "aaxis": {
             "endlinecolor": "#2a3f5f",
             "gridcolor": "white",
             "linecolor": "white",
             "minorgridcolor": "white",
             "startlinecolor": "#2a3f5f"
            },
            "baxis": {
             "endlinecolor": "#2a3f5f",
             "gridcolor": "white",
             "linecolor": "white",
             "minorgridcolor": "white",
             "startlinecolor": "#2a3f5f"
            },
            "type": "carpet"
           }
          ],
          "choropleth": [
           {
            "colorbar": {
             "outlinewidth": 0,
             "ticks": ""
            },
            "type": "choropleth"
           }
          ],
          "contour": [
           {
            "colorbar": {
             "outlinewidth": 0,
             "ticks": ""
            },
            "colorscale": [
             [
              0,
              "#0d0887"
             ],
             [
              0.1111111111111111,
              "#46039f"
             ],
             [
              0.2222222222222222,
              "#7201a8"
             ],
             [
              0.3333333333333333,
              "#9c179e"
             ],
             [
              0.4444444444444444,
              "#bd3786"
             ],
             [
              0.5555555555555556,
              "#d8576b"
             ],
             [
              0.6666666666666666,
              "#ed7953"
             ],
             [
              0.7777777777777778,
              "#fb9f3a"
             ],
             [
              0.8888888888888888,
              "#fdca26"
             ],
             [
              1,
              "#f0f921"
             ]
            ],
            "type": "contour"
           }
          ],
          "contourcarpet": [
           {
            "colorbar": {
             "outlinewidth": 0,
             "ticks": ""
            },
            "type": "contourcarpet"
           }
          ],
          "heatmap": [
           {
            "colorbar": {
             "outlinewidth": 0,
             "ticks": ""
            },
            "colorscale": [
             [
              0,
              "#0d0887"
             ],
             [
              0.1111111111111111,
              "#46039f"
             ],
             [
              0.2222222222222222,
              "#7201a8"
             ],
             [
              0.3333333333333333,
              "#9c179e"
             ],
             [
              0.4444444444444444,
              "#bd3786"
             ],
             [
              0.5555555555555556,
              "#d8576b"
             ],
             [
              0.6666666666666666,
              "#ed7953"
             ],
             [
              0.7777777777777778,
              "#fb9f3a"
             ],
             [
              0.8888888888888888,
              "#fdca26"
             ],
             [
              1,
              "#f0f921"
             ]
            ],
            "type": "heatmap"
           }
          ],
          "heatmapgl": [
           {
            "colorbar": {
             "outlinewidth": 0,
             "ticks": ""
            },
            "colorscale": [
             [
              0,
              "#0d0887"
             ],
             [
              0.1111111111111111,
              "#46039f"
             ],
             [
              0.2222222222222222,
              "#7201a8"
             ],
             [
              0.3333333333333333,
              "#9c179e"
             ],
             [
              0.4444444444444444,
              "#bd3786"
             ],
             [
              0.5555555555555556,
              "#d8576b"
             ],
             [
              0.6666666666666666,
              "#ed7953"
             ],
             [
              0.7777777777777778,
              "#fb9f3a"
             ],
             [
              0.8888888888888888,
              "#fdca26"
             ],
             [
              1,
              "#f0f921"
             ]
            ],
            "type": "heatmapgl"
           }
          ],
          "histogram": [
           {
            "marker": {
             "pattern": {
              "fillmode": "overlay",
              "size": 10,
              "solidity": 0.2
             }
            },
            "type": "histogram"
           }
          ],
          "histogram2d": [
           {
            "colorbar": {
             "outlinewidth": 0,
             "ticks": ""
            },
            "colorscale": [
             [
              0,
              "#0d0887"
             ],
             [
              0.1111111111111111,
              "#46039f"
             ],
             [
              0.2222222222222222,
              "#7201a8"
             ],
             [
              0.3333333333333333,
              "#9c179e"
             ],
             [
              0.4444444444444444,
              "#bd3786"
             ],
             [
              0.5555555555555556,
              "#d8576b"
             ],
             [
              0.6666666666666666,
              "#ed7953"
             ],
             [
              0.7777777777777778,
              "#fb9f3a"
             ],
             [
              0.8888888888888888,
              "#fdca26"
             ],
             [
              1,
              "#f0f921"
             ]
            ],
            "type": "histogram2d"
           }
          ],
          "histogram2dcontour": [
           {
            "colorbar": {
             "outlinewidth": 0,
             "ticks": ""
            },
            "colorscale": [
             [
              0,
              "#0d0887"
             ],
             [
              0.1111111111111111,
              "#46039f"
             ],
             [
              0.2222222222222222,
              "#7201a8"
             ],
             [
              0.3333333333333333,
              "#9c179e"
             ],
             [
              0.4444444444444444,
              "#bd3786"
             ],
             [
              0.5555555555555556,
              "#d8576b"
             ],
             [
              0.6666666666666666,
              "#ed7953"
             ],
             [
              0.7777777777777778,
              "#fb9f3a"
             ],
             [
              0.8888888888888888,
              "#fdca26"
             ],
             [
              1,
              "#f0f921"
             ]
            ],
            "type": "histogram2dcontour"
           }
          ],
          "mesh3d": [
           {
            "colorbar": {
             "outlinewidth": 0,
             "ticks": ""
            },
            "type": "mesh3d"
           }
          ],
          "parcoords": [
           {
            "line": {
             "colorbar": {
              "outlinewidth": 0,
              "ticks": ""
             }
            },
            "type": "parcoords"
           }
          ],
          "pie": [
           {
            "automargin": true,
            "type": "pie"
           }
          ],
          "scatter": [
           {
            "fillpattern": {
             "fillmode": "overlay",
             "size": 10,
             "solidity": 0.2
            },
            "type": "scatter"
           }
          ],
          "scatter3d": [
           {
            "line": {
             "colorbar": {
              "outlinewidth": 0,
              "ticks": ""
             }
            },
            "marker": {
             "colorbar": {
              "outlinewidth": 0,
              "ticks": ""
             }
            },
            "type": "scatter3d"
           }
          ],
          "scattercarpet": [
           {
            "marker": {
             "colorbar": {
              "outlinewidth": 0,
              "ticks": ""
             }
            },
            "type": "scattercarpet"
           }
          ],
          "scattergeo": [
           {
            "marker": {
             "colorbar": {
              "outlinewidth": 0,
              "ticks": ""
             }
            },
            "type": "scattergeo"
           }
          ],
          "scattergl": [
           {
            "marker": {
             "colorbar": {
              "outlinewidth": 0,
              "ticks": ""
             }
            },
            "type": "scattergl"
           }
          ],
          "scattermapbox": [
           {
            "marker": {
             "colorbar": {
              "outlinewidth": 0,
              "ticks": ""
             }
            },
            "type": "scattermapbox"
           }
          ],
          "scatterpolar": [
           {
            "marker": {
             "colorbar": {
              "outlinewidth": 0,
              "ticks": ""
             }
            },
            "type": "scatterpolar"
           }
          ],
          "scatterpolargl": [
           {
            "marker": {
             "colorbar": {
              "outlinewidth": 0,
              "ticks": ""
             }
            },
            "type": "scatterpolargl"
           }
          ],
          "scatterternary": [
           {
            "marker": {
             "colorbar": {
              "outlinewidth": 0,
              "ticks": ""
             }
            },
            "type": "scatterternary"
           }
          ],
          "surface": [
           {
            "colorbar": {
             "outlinewidth": 0,
             "ticks": ""
            },
            "colorscale": [
             [
              0,
              "#0d0887"
             ],
             [
              0.1111111111111111,
              "#46039f"
             ],
             [
              0.2222222222222222,
              "#7201a8"
             ],
             [
              0.3333333333333333,
              "#9c179e"
             ],
             [
              0.4444444444444444,
              "#bd3786"
             ],
             [
              0.5555555555555556,
              "#d8576b"
             ],
             [
              0.6666666666666666,
              "#ed7953"
             ],
             [
              0.7777777777777778,
              "#fb9f3a"
             ],
             [
              0.8888888888888888,
              "#fdca26"
             ],
             [
              1,
              "#f0f921"
             ]
            ],
            "type": "surface"
           }
          ],
          "table": [
           {
            "cells": {
             "fill": {
              "color": "#EBF0F8"
             },
             "line": {
              "color": "white"
             }
            },
            "header": {
             "fill": {
              "color": "#C8D4E3"
             },
             "line": {
              "color": "white"
             }
            },
            "type": "table"
           }
          ]
         },
         "layout": {
          "annotationdefaults": {
           "arrowcolor": "#2a3f5f",
           "arrowhead": 0,
           "arrowwidth": 1
          },
          "autotypenumbers": "strict",
          "coloraxis": {
           "colorbar": {
            "outlinewidth": 0,
            "ticks": ""
           }
          },
          "colorscale": {
           "diverging": [
            [
             0,
             "#8e0152"
            ],
            [
             0.1,
             "#c51b7d"
            ],
            [
             0.2,
             "#de77ae"
            ],
            [
             0.3,
             "#f1b6da"
            ],
            [
             0.4,
             "#fde0ef"
            ],
            [
             0.5,
             "#f7f7f7"
            ],
            [
             0.6,
             "#e6f5d0"
            ],
            [
             0.7,
             "#b8e186"
            ],
            [
             0.8,
             "#7fbc41"
            ],
            [
             0.9,
             "#4d9221"
            ],
            [
             1,
             "#276419"
            ]
           ],
           "sequential": [
            [
             0,
             "#0d0887"
            ],
            [
             0.1111111111111111,
             "#46039f"
            ],
            [
             0.2222222222222222,
             "#7201a8"
            ],
            [
             0.3333333333333333,
             "#9c179e"
            ],
            [
             0.4444444444444444,
             "#bd3786"
            ],
            [
             0.5555555555555556,
             "#d8576b"
            ],
            [
             0.6666666666666666,
             "#ed7953"
            ],
            [
             0.7777777777777778,
             "#fb9f3a"
            ],
            [
             0.8888888888888888,
             "#fdca26"
            ],
            [
             1,
             "#f0f921"
            ]
           ],
           "sequentialminus": [
            [
             0,
             "#0d0887"
            ],
            [
             0.1111111111111111,
             "#46039f"
            ],
            [
             0.2222222222222222,
             "#7201a8"
            ],
            [
             0.3333333333333333,
             "#9c179e"
            ],
            [
             0.4444444444444444,
             "#bd3786"
            ],
            [
             0.5555555555555556,
             "#d8576b"
            ],
            [
             0.6666666666666666,
             "#ed7953"
            ],
            [
             0.7777777777777778,
             "#fb9f3a"
            ],
            [
             0.8888888888888888,
             "#fdca26"
            ],
            [
             1,
             "#f0f921"
            ]
           ]
          },
          "colorway": [
           "#636efa",
           "#EF553B",
           "#00cc96",
           "#ab63fa",
           "#FFA15A",
           "#19d3f3",
           "#FF6692",
           "#B6E880",
           "#FF97FF",
           "#FECB52"
          ],
          "font": {
           "color": "#2a3f5f"
          },
          "geo": {
           "bgcolor": "white",
           "lakecolor": "white",
           "landcolor": "#E5ECF6",
           "showlakes": true,
           "showland": true,
           "subunitcolor": "white"
          },
          "hoverlabel": {
           "align": "left"
          },
          "hovermode": "closest",
          "mapbox": {
           "style": "light"
          },
          "paper_bgcolor": "white",
          "plot_bgcolor": "#E5ECF6",
          "polar": {
           "angularaxis": {
            "gridcolor": "white",
            "linecolor": "white",
            "ticks": ""
           },
           "bgcolor": "#E5ECF6",
           "radialaxis": {
            "gridcolor": "white",
            "linecolor": "white",
            "ticks": ""
           }
          },
          "scene": {
           "xaxis": {
            "backgroundcolor": "#E5ECF6",
            "gridcolor": "white",
            "gridwidth": 2,
            "linecolor": "white",
            "showbackground": true,
            "ticks": "",
            "zerolinecolor": "white"
           },
           "yaxis": {
            "backgroundcolor": "#E5ECF6",
            "gridcolor": "white",
            "gridwidth": 2,
            "linecolor": "white",
            "showbackground": true,
            "ticks": "",
            "zerolinecolor": "white"
           },
           "zaxis": {
            "backgroundcolor": "#E5ECF6",
            "gridcolor": "white",
            "gridwidth": 2,
            "linecolor": "white",
            "showbackground": true,
            "ticks": "",
            "zerolinecolor": "white"
           }
          },
          "shapedefaults": {
           "line": {
            "color": "#2a3f5f"
           }
          },
          "ternary": {
           "aaxis": {
            "gridcolor": "white",
            "linecolor": "white",
            "ticks": ""
           },
           "baxis": {
            "gridcolor": "white",
            "linecolor": "white",
            "ticks": ""
           },
           "bgcolor": "#E5ECF6",
           "caxis": {
            "gridcolor": "white",
            "linecolor": "white",
            "ticks": ""
           }
          },
          "title": {
           "x": 0.05
          },
          "xaxis": {
           "automargin": true,
           "gridcolor": "white",
           "linecolor": "white",
           "ticks": "",
           "title": {
            "standoff": 15
           },
           "zerolinecolor": "white",
           "zerolinewidth": 2
          },
          "yaxis": {
           "automargin": true,
           "gridcolor": "white",
           "linecolor": "white",
           "ticks": "",
           "title": {
            "standoff": 15
           },
           "zerolinecolor": "white",
           "zerolinewidth": 2
          }
         }
        },
        "title": {
         "text": "Correlation Matrix"
        },
        "width": 800,
        "xaxis": {
         "dtick": 1,
         "tickangle": 45,
         "tickfont": {
          "size": 10
         },
         "ticks": ""
        },
        "yaxis": {
         "dtick": 1,
         "tickfont": {
          "size": 10
         },
         "ticks": ""
        }
       }
      }
     },
     "metadata": {},
     "output_type": "display_data"
    }
   ],
   "source": [
    "correlation_matrix = training_df.corr(numeric_only=True)\n",
    "\n",
    "# Assuming training_df is your DataFrame\n",
    "correlation_matrix = training_df.corr(numeric_only=True)\n",
    "\n",
    "# Create a heatmap using Plotly\n",
    "fig = go.Figure(data=go.Heatmap(\n",
    "    z=correlation_matrix.values,\n",
    "    x=correlation_matrix.columns,\n",
    "    y=correlation_matrix.columns,\n",
    "    colorscale='Plasma',  # Choose a different colorscale for better contrast\n",
    "    colorbar=dict(title='Correlation', tickformat=\".2f\"),  # Customize the colorbar\n",
    "    zmin=-1, zmax=1  # Set the range of the color scale\n",
    "))\n",
    "\n",
    "# Customize the layout\n",
    "fig.update_layout(\n",
    "    title='Correlation Matrix',\n",
    "    xaxis=dict(ticks='', dtick=1, tickangle=45, tickfont=dict(size=10)),  # Customize x-axis ticks\n",
    "    yaxis=dict(ticks='', dtick=1, tickfont=dict(size=10)),  # Customize y-axis ticks\n",
    "    margin=dict(l=50, r=50, t=70, b=50),  # Adjust margins for better spacing\n",
    "    width=800, height=800  # Set the size of the plot\n",
    ")\n",
    "\n",
    "# Display the plot\n",
    "fig.show()"
   ]
  },
  {
   "cell_type": "code",
   "execution_count": 21,
   "metadata": {},
   "outputs": [
    {
     "data": {
      "text/plain": [
       "<seaborn.axisgrid.PairGrid at 0x1bc653ee960>"
      ]
     },
     "execution_count": 21,
     "metadata": {},
     "output_type": "execute_result"
    },
    {
     "data": {
      "image/png": "[encoded data removed]",
      "text/plain": [
       "<Figure size 1750x500 with 16 Axes>"
      ]
     },
     "metadata": {},
     "output_type": "display_data"
    }
   ],
   "source": [
    "sns.pairplot(training_df, x_vars=columns, y_vars=[\"ht\", \"met\"])"
   ]
  },
  {
   "cell_type": "code",
   "execution_count": 22,
   "metadata": {},
   "outputs": [
    {
     "name": "stdout",
     "output_type": "stream",
     "text": [
      "SUCCESS: defining plotting functions complete.\n"
     ]
    }
   ],
   "source": [
    "#@title Define plotting functions\n",
    "\n",
    "def make_plots(df, feature_names, label_name, model_output, sample_size=200):\n",
    "\n",
    "  random_sample = df.sample(n=sample_size).copy()\n",
    "  random_sample.reset_index()\n",
    "  weights, bias, epochs, rmse = model_output\n",
    "\n",
    "  is_2d_plot = len(feature_names) == 1\n",
    "  model_plot_type = \"scatter\" if is_2d_plot else \"surface\"\n",
    "  fig = make_subplots(rows=1, cols=2,\n",
    "                      subplot_titles=(\"Loss Curve\", \"Model Plot\"),\n",
    "                      specs=[[{\"type\": \"scatter\"}, {\"type\": model_plot_type}]])\n",
    "\n",
    "  plot_data(random_sample, feature_names, label_name, fig)\n",
    "  plot_model(random_sample, feature_names, weights, bias, fig)\n",
    "  plot_loss_curve(epochs, rmse, fig)\n",
    "\n",
    "  fig.show()\n",
    "  return\n",
    "\n",
    "def plot_loss_curve(epochs, rmse, fig):\n",
    "  curve = px.line(x=epochs, y=rmse)\n",
    "  curve.update_traces(line_color='#ff0000', line_width=3)\n",
    "\n",
    "  fig.append_trace(curve.data[0], row=1, col=1)\n",
    "  fig.update_xaxes(title_text=\"Epoch\", row=1, col=1)\n",
    "  fig.update_yaxes(title_text=\"Root Mean Squared Error\", row=1, col=1, range=[rmse.min()*0.8, rmse.max()])\n",
    "\n",
    "  return\n",
    "\n",
    "def plot_data(df, features, label, fig):\n",
    "  if len(features) == 1:\n",
    "    scatter = px.scatter(df, x=features[0], y=label)\n",
    "  else:\n",
    "    scatter = px.scatter_3d(df, x=features[0], y=features[1], z=label)\n",
    "\n",
    "  fig.append_trace(scatter.data[0], row=1, col=2)\n",
    "  if len(features) == 1:\n",
    "    fig.update_xaxes(title_text=features[0], row=1, col=2)\n",
    "    fig.update_yaxes(title_text=label, row=1, col=2)\n",
    "  else:\n",
    "    fig.update_layout(scene1=dict(xaxis_title=features[0], yaxis_title=features[1], zaxis_title=label))\n",
    "\n",
    "  return\n",
    "\n",
    "def plot_model(df, features, weights, bias, fig):\n",
    "  df['FARE_PREDICTED'] = bias[0]\n",
    "\n",
    "  for index, feature in enumerate(features):\n",
    "    df['FARE_PREDICTED'] = df['FARE_PREDICTED'] + weights[index][0] * df[feature]\n",
    "\n",
    "  if len(features) == 1:\n",
    "    model = px.line(df, x=features[0], y='FARE_PREDICTED')\n",
    "    model.update_traces(line_color='#ff0000', line_width=3)\n",
    "  else:\n",
    "    z_name, y_name = \"FARE_PREDICTED\", features[1]\n",
    "    z = [df[z_name].min(), (df[z_name].max() - df[z_name].min()) / 2, df[z_name].max()]\n",
    "    y = [df[y_name].min(), (df[y_name].max() - df[y_name].min()) / 2, df[y_name].max()]\n",
    "    x = []\n",
    "    for i in range(len(y)):\n",
    "      x.append((z[i] - weights[1][0] * y[i] - bias[0]) / weights[0][0])\n",
    "\n",
    "    plane=pd.DataFrame({'x':x, 'y':y, 'z':[z] * 3})\n",
    "\n",
    "    light_yellow = [[0, '#89CFF0'], [1, '#FFDB58']]\n",
    "    model = go.Figure(data=go.Surface(x=plane['x'], y=plane['y'], z=plane['z'],\n",
    "                                      colorscale=light_yellow))\n",
    "\n",
    "  fig.add_trace(model.data[0], row=1, col=2)\n",
    "\n",
    "  return\n",
    "\n",
    "def model_info(feature_names, label_name, model_output):\n",
    "  weights = model_output[0]\n",
    "  bias = model_output[1]\n",
    "\n",
    "  nl = \"\\n\"\n",
    "  header = \"-\" * 80\n",
    "  banner = header + nl + \"|\" + \"MODEL INFO\".center(78) + \"|\" + nl + header\n",
    "\n",
    "  info = \"\"\n",
    "  equation = label_name + \" = \"\n",
    "\n",
    "  for index, feature in enumerate(feature_names):\n",
    "    info = info + \"Weight for feature[{}]: {:.3f}\\n\".format(feature, weights[index][0])\n",
    "    equation = equation + \"{:.3f} * {} + \".format(weights[index][0], feature)\n",
    "\n",
    "  info = info + \"Bias: {:.3f}\\n\".format(bias[0])\n",
    "  equation = equation + \"{:.3f}\\n\".format(bias[0])\n",
    "\n",
    "  return banner + nl + info + nl + equation\n",
    "\n",
    "print(\"SUCCESS: defining plotting functions complete.\")"
   ]
  },
  {
   "cell_type": "code",
   "execution_count": 23,
   "metadata": {},
   "outputs": [
    {
     "name": "stdout",
     "output_type": "stream",
     "text": [
      "SUCCESS: defining linear regression functions complete.\n"
     ]
    }
   ],
   "source": [
    "#@title Code - Define ML functions\n",
    "\n",
    "def build_model(my_learning_rate, num_features):\n",
    "  \"\"\"Create and compile a simple linear regression model.\"\"\"\n",
    "  # Most simple keras models are sequential.\n",
    "  model = keras.models.Sequential()\n",
    "\n",
    "  # Describe the topography of the model.\n",
    "  # The topography of a simple linear regression model\n",
    "  # is a single node in a single layer.\n",
    "  model.add(keras.layers.Dense(units=1,\n",
    "                                  input_shape=(num_features,)))\n",
    "\n",
    "  # Compile the model topography into code that Keras can efficiently\n",
    "  # execute. Configure training to minimize the model's mean squared error.\n",
    "  model.compile(optimizer=keras.optimizers.RMSprop(learning_rate=my_learning_rate),\n",
    "                loss=\"mean_squared_error\",\n",
    "                metrics=[keras.metrics.RootMeanSquaredError()])\n",
    "\n",
    "  return model\n",
    "\n",
    "\n",
    "def train_model(model, df, features, label, epochs, batch_size):\n",
    "  \"\"\"Train the model by feeding it data.\"\"\"\n",
    "\n",
    "  # Feed the model the feature and the label.\n",
    "  # The model will train for the specified number of epochs.\n",
    "  # input_x = df.iloc[:,1:3].values\n",
    "  # df[feature]\n",
    "  history = model.fit(x=features,\n",
    "                      y=label,\n",
    "                      batch_size=batch_size,\n",
    "                      epochs=epochs)\n",
    "\n",
    "  # Gather the trained model's weight and bias.\n",
    "  trained_weight = model.get_weights()[0]\n",
    "  trained_bias = model.get_weights()[1]\n",
    "\n",
    "  # The list of epochs is stored separately from the rest of history.\n",
    "  epochs = history.epoch\n",
    "\n",
    "  # Isolate the error for each epoch.\n",
    "  hist = pd.DataFrame(history.history)\n",
    "\n",
    "  # To track the progression of training, we're going to take a snapshot\n",
    "  # of the model's root mean squared error at each epoch.\n",
    "  rmse = hist[\"root_mean_squared_error\"]\n",
    "\n",
    "  return trained_weight, trained_bias, epochs, rmse\n",
    "\n",
    "\n",
    "def run_experiment(df, feature_names, label_name, learning_rate, epochs, batch_size):\n",
    "\n",
    "  print('INFO: starting training experiment with features={} and label={}\\n'.format(feature_names, label_name))\n",
    "\n",
    "  num_features = len(feature_names)\n",
    "\n",
    "  features = df.loc[:, feature_names].values\n",
    "  label = df[label_name].values\n",
    "\n",
    "  model = build_model(learning_rate, num_features)\n",
    "  model_output = train_model(model, df, features, label, epochs, batch_size)\n",
    "\n",
    "  print('\\nSUCCESS: training experiment complete\\n')\n",
    "  print('{}'.format(model_info(feature_names, label_name, model_output)))\n",
    "  make_plots(df, feature_names, label_name, model_output)\n",
    "\n",
    "  return model\n",
    "\n",
    "print(\"SUCCESS: defining linear regression functions complete.\")"
   ]
  },
  {
   "cell_type": "code",
   "execution_count": 24,
   "metadata": {},
   "outputs": [
    {
     "name": "stdout",
     "output_type": "stream",
     "text": [
      "INFO: starting training experiment with features=['m_jj', 'tau21_j1', 'tau21_j2', 'tau32_j1', 'tau32_j2'] and label=ht\n",
      "\n"
     ]
    },
    {
     "name": "stderr",
     "output_type": "stream",
     "text": [
      "c:\\Users\\Wan\\AppData\\Local\\Programs\\Python\\Python312\\Lib\\site-packages\\keras\\src\\layers\\core\\dense.py:87: UserWarning:\n",
      "\n",
      "Do not pass an `input_shape`/`input_dim` argument to a layer. When using Sequential models, prefer using an `Input(shape)` object as the first layer in the model instead.\n",
      "\n"
     ]
    },
    {
     "name": "stdout",
     "output_type": "stream",
     "text": [
      "Epoch 1/20\n",
      "\u001b[1m158/158\u001b[0m \u001b[32m━━━━━━━━━━━━━━━━━━━━\u001b[0m\u001b[37m\u001b[0m \u001b[1m1s\u001b[0m 2ms/step - loss: 18043826.0000 - root_mean_squared_error: 4247.5073\n",
      "Epoch 2/20\n",
      "\u001b[1m158/158\u001b[0m \u001b[32m━━━━━━━━━━━━━━━━━━━━\u001b[0m\u001b[37m\u001b[0m \u001b[1m0s\u001b[0m 2ms/step - loss: 14882475.0000 - root_mean_squared_error: 3856.8948\n",
      "Epoch 3/20\n",
      "\u001b[1m158/158\u001b[0m \u001b[32m━━━━━━━━━━━━━━━━━━━━\u001b[0m\u001b[37m\u001b[0m \u001b[1m0s\u001b[0m 2ms/step - loss: 11807969.0000 - root_mean_squared_error: 3435.9297\n",
      "Epoch 4/20\n",
      "\u001b[1m158/158\u001b[0m \u001b[32m━━━━━━━━━━━━━━━━━━━━\u001b[0m\u001b[37m\u001b[0m \u001b[1m0s\u001b[0m 2ms/step - loss: 9245122.0000 - root_mean_squared_error: 3039.9231\n",
      "Epoch 5/20\n",
      "\u001b[1m158/158\u001b[0m \u001b[32m━━━━━━━━━━━━━━━━━━━━\u001b[0m\u001b[37m\u001b[0m \u001b[1m0s\u001b[0m 3ms/step - loss: 6913860.5000 - root_mean_squared_error: 2628.7415\n",
      "Epoch 6/20\n",
      "\u001b[1m158/158\u001b[0m \u001b[32m━━━━━━━━━━━━━━━━━━━━\u001b[0m\u001b[37m\u001b[0m \u001b[1m0s\u001b[0m 2ms/step - loss: 5003298.5000 - root_mean_squared_error: 2236.1206\n",
      "Epoch 7/20\n",
      "\u001b[1m158/158\u001b[0m \u001b[32m━━━━━━━━━━━━━━━━━━━━\u001b[0m\u001b[37m\u001b[0m \u001b[1m0s\u001b[0m 2ms/step - loss: 3391960.2500 - root_mean_squared_error: 1840.8646\n",
      "Epoch 8/20\n",
      "\u001b[1m158/158\u001b[0m \u001b[32m━━━━━━━━━━━━━━━━━━━━\u001b[0m\u001b[37m\u001b[0m \u001b[1m0s\u001b[0m 2ms/step - loss: 2112567.7500 - root_mean_squared_error: 1452.4700\n",
      "Epoch 9/20\n",
      "\u001b[1m158/158\u001b[0m \u001b[32m━━━━━━━━━━━━━━━━━━━━\u001b[0m\u001b[37m\u001b[0m \u001b[1m0s\u001b[0m 2ms/step - loss: 1186223.0000 - root_mean_squared_error: 1087.7740\n",
      "Epoch 10/20\n",
      "\u001b[1m158/158\u001b[0m \u001b[32m━━━━━━━━━━━━━━━━━━━━\u001b[0m\u001b[37m\u001b[0m \u001b[1m0s\u001b[0m 3ms/step - loss: 557423.0000 - root_mean_squared_error: 745.3018\n",
      "Epoch 11/20\n",
      "\u001b[1m158/158\u001b[0m \u001b[32m━━━━━━━━━━━━━━━━━━━━\u001b[0m\u001b[37m\u001b[0m \u001b[1m0s\u001b[0m 2ms/step - loss: 282805.7500 - root_mean_squared_error: 530.9048\n",
      "Epoch 12/20\n",
      "\u001b[1m158/158\u001b[0m \u001b[32m━━━━━━━━━━━━━━━━━━━━\u001b[0m\u001b[37m\u001b[0m \u001b[1m0s\u001b[0m 3ms/step - loss: 235982.7031 - root_mean_squared_error: 485.7514\n",
      "Epoch 13/20\n",
      "\u001b[1m158/158\u001b[0m \u001b[32m━━━━━━━━━━━━━━━━━━━━\u001b[0m\u001b[37m\u001b[0m \u001b[1m0s\u001b[0m 3ms/step - loss: 233952.5625 - root_mean_squared_error: 483.6468\n",
      "Epoch 14/20\n",
      "\u001b[1m158/158\u001b[0m \u001b[32m━━━━━━━━━━━━━━━━━━━━\u001b[0m\u001b[37m\u001b[0m \u001b[1m1s\u001b[0m 3ms/step - loss: 229391.8594 - root_mean_squared_error: 478.9132\n",
      "Epoch 15/20\n",
      "\u001b[1m158/158\u001b[0m \u001b[32m━━━━━━━━━━━━━━━━━━━━\u001b[0m\u001b[37m\u001b[0m \u001b[1m0s\u001b[0m 3ms/step - loss: 243599.4062 - root_mean_squared_error: 493.4995\n",
      "Epoch 16/20\n",
      "\u001b[1m158/158\u001b[0m \u001b[32m━━━━━━━━━━━━━━━━━━━━\u001b[0m\u001b[37m\u001b[0m \u001b[1m0s\u001b[0m 2ms/step - loss: 244164.7188 - root_mean_squared_error: 493.9130\n",
      "Epoch 17/20\n",
      "\u001b[1m158/158\u001b[0m \u001b[32m━━━━━━━━━━━━━━━━━━━━\u001b[0m\u001b[37m\u001b[0m \u001b[1m0s\u001b[0m 2ms/step - loss: 230015.0312 - root_mean_squared_error: 479.5436\n",
      "Epoch 18/20\n",
      "\u001b[1m158/158\u001b[0m \u001b[32m━━━━━━━━━━━━━━━━━━━━\u001b[0m\u001b[37m\u001b[0m \u001b[1m0s\u001b[0m 2ms/step - loss: 233396.9219 - root_mean_squared_error: 483.0698\n",
      "Epoch 19/20\n",
      "\u001b[1m158/158\u001b[0m \u001b[32m━━━━━━━━━━━━━━━━━━━━\u001b[0m\u001b[37m\u001b[0m \u001b[1m0s\u001b[0m 2ms/step - loss: 241187.4688 - root_mean_squared_error: 490.9612\n",
      "Epoch 20/20\n",
      "\u001b[1m158/158\u001b[0m \u001b[32m━━━━━━━━━━━━━━━━━━━━\u001b[0m\u001b[37m\u001b[0m \u001b[1m0s\u001b[0m 2ms/step - loss: 226694.9375 - root_mean_squared_error: 475.9519\n",
      "\n",
      "SUCCESS: training experiment complete\n",
      "\n",
      "--------------------------------------------------------------------------------\n",
      "|                                  MODEL INFO                                  |\n",
      "--------------------------------------------------------------------------------\n",
      "Weight for feature[m_jj]: 0.894\n",
      "Weight for feature[tau21_j1]: 1.330\n",
      "Weight for feature[tau21_j2]: 1.275\n",
      "Weight for feature[tau32_j1]: 1.742\n",
      "Weight for feature[tau32_j2]: 1.605\n",
      "Bias: 2.247\n",
      "\n",
      "ht = 0.894 * m_jj + 1.330 * tau21_j1 + 1.275 * tau21_j2 + 1.742 * tau32_j1 + 1.605 * tau32_j2 + 2.247\n",
      "\n"
     ]
    },
    {
     "data": {
      "application/vnd.plotly.v1+json": {
       "config": {
        "plotlyServerURL": "https://plot.ly"
       },
       "data": [
        {
         "hovertemplate": "m_jj=%{x}<br>tau21_j1=%{y}<br>ht=%{z}<extra></extra>",
         "legendgroup": "",
         "marker": {
          "color": "#636efa",
          "symbol": "circle"
         },
         "mode": "markers",
         "name": "",
         "scene": "scene",
         "showlegend": false,
         "type": "scatter3d",
         "x": [
          2741.72,
          2572.49,
          3412.05,
          3485.59,
          1390.15,
          2561.79,
          868.132,
          3785.93,
          2484.52,
          3007.9,
          3172.85,
          2887.11,
          3179.97,
          2742.55,
          2597.15,
          3293.21,
          535.188,
          479.631,
          1444.15,
          3309.23,
          3594.13,
          3100.27,
          3538.85,
          2873.94,
          1012.98,
          3907.68,
          3767.98,
          3594.57,
          2890.36,
          3333.38,
          580.819,
          504.142,
          2389.04,
          1718.21,
          1794.18,
          1158.3,
          3682.74,
          3973.03,
          1958.28,
          2959.2,
          468.232,
          3972.83,
          2872.37,
          3593.23,
          3523.79,
          1411.33,
          2257.21,
          3715.58,
          1867.27,
          942.934,
          3579.13,
          520.298,
          3529.17,
          2722.92,
          2809.15,
          3163.96,
          2051.06,
          3463.21,
          3551.9,
          3781.02,
          1191.12,
          2116.83,
          2564.17,
          2429.32,
          1590.83,
          3462.01,
          2857.88,
          3741.87,
          1589.19,
          3268.76,
          3020.33,
          3885.97,
          1881.5,
          538.594,
          3879.85,
          3132.73,
          3301.52,
          3700.46,
          2907.25,
          717.65,
          3226.75,
          812.698,
          593.875,
          2583.51,
          2384.23,
          2973.29,
          3151.14,
          2781.06,
          504.193,
          2900.79,
          2568.6,
          506.634,
          3834.86,
          3782.67,
          3826.72,
          2991.82,
          806.373,
          3823.35,
          3082.36,
          2953.97,
          2698.7,
          990.175,
          1696.32,
          1901.85,
          2421.36,
          530.721,
          3873.08,
          3182.23,
          2982.66,
          3315.93,
          2465.51,
          691.424,
          1161.1,
          504.038,
          2971.92,
          3089.67,
          2035.17,
          2892.92,
          1958.83,
          2054.06,
          753.664,
          547.592,
          1698.85,
          2974.42,
          3091.98,
          2455.75,
          3759.46,
          592.75,
          3224.89,
          2266.05,
          920.011,
          2744.87,
          3532.61,
          3666.03,
          2150.62,
          535.562,
          649.696,
          2043.58,
          2170.03,
          2559.52,
          1668.54,
          4140.34,
          3148.66,
          3432.89,
          2934.16,
          3911.13,
          3121.04,
          3864.5,
          1660.18,
          3678.52,
          2997.61,
          2690.46,
          3327.11,
          3385.18,
          2773.5,
          3285.05,
          2524.73,
          2365.37,
          3401.58,
          2398.94,
          3360.61,
          910.898,
          1169.52,
          677.99,
          3082.89,
          1379.98,
          901.506,
          2469.65,
          1596.32,
          3556.69,
          470.95,
          3345.71,
          2206.22,
          514.692,
          804.35,
          874.908,
          548.267,
          2527.62,
          1745.14,
          1430.75,
          3218.53,
          1796.77,
          2761.75,
          2679.34,
          3503.89,
          3585.53,
          606.924,
          3344.58,
          2161.67,
          3071.34,
          3342.1,
          3238.07,
          1288.17,
          2397.51,
          2582.16,
          3387.9,
          1503.88,
          1608.47,
          423.378,
          1039.06
         ],
         "y": [
          0.372914,
          0.628937,
          0.408306,
          0.454912,
          0.689195,
          0.502303,
          0.332103,
          0.289763,
          0.0710516,
          0.244844,
          0.400995,
          0.419384,
          0.553217,
          0.11678,
          0.46202,
          0.541768,
          0.638466,
          0.607403,
          0.200424,
          0.0863936,
          0.175129,
          0.297959,
          0.404919,
          0.543725,
          0.612149,
          0.152065,
          0.292862,
          0.115677,
          0.0762081,
          0.586028,
          0.567745,
          0.877813,
          0.328375,
          0.554595,
          0.54536,
          0.276115,
          0.469608,
          0.400188,
          0.13092,
          0.681827,
          0.798002,
          0.444708,
          0.129364,
          0.385536,
          0.331014,
          0.481872,
          0.258799,
          0.487232,
          0.333855,
          0.797063,
          0.22489,
          0.645264,
          0.594184,
          0.2837,
          0.500424,
          0.368938,
          0.433932,
          0.089808,
          0.211256,
          0.368153,
          0.484454,
          0.396325,
          0.707248,
          0.093681,
          0.266197,
          0.334263,
          0.592017,
          0.0762804,
          0.124216,
          0.290529,
          0.101572,
          0.42748,
          0.215784,
          0.798046,
          0.548258,
          0.0461485,
          0.292171,
          0.23006,
          0.124018,
          0.578929,
          0.522323,
          0.77965,
          0.4103,
          0.27648,
          0.663238,
          0.452476,
          0.304714,
          0.274959,
          0.15311,
          0.351735,
          0.547418,
          0.706396,
          0.367754,
          0.145527,
          0.07317,
          0.0661582,
          0.145192,
          0.556746,
          0.436874,
          0.0583226,
          0.609461,
          0.443806,
          0.492404,
          0.344209,
          0.31737,
          0.841849,
          0.468532,
          0.215127,
          0.496205,
          0.592427,
          0.226632,
          0.241947,
          0.497214,
          0.405296,
          0.173335,
          0.441436,
          0.741626,
          0.503993,
          0.416571,
          0.608049,
          0.573391,
          0.517475,
          0.325034,
          0.619527,
          0.569785,
          0.254196,
          0.364663,
          0.318598,
          0.411225,
          0.755539,
          0.238873,
          0.363127,
          0.374483,
          0.64428,
          0.270294,
          0.271204,
          0.736461,
          0.0681091,
          0.373591,
          0.26211,
          0.654964,
          0.35859,
          0.629502,
          0.111143,
          0.0896812,
          0.470352,
          0.225567,
          0.475154,
          0.659174,
          0.330813,
          0.351037,
          0.323236,
          0.326651,
          0.352897,
          0.736411,
          0.125021,
          0.859674,
          0.0913806,
          0.394075,
          0.852618,
          0.167784,
          0.246689,
          0.821106,
          0.334444,
          0.077538,
          0.505041,
          0.133428,
          0.247835,
          0.334392,
          0.414592,
          0.5953,
          0.168728,
          0.0706959,
          0.582596,
          0.318119,
          0.555963,
          0.734407,
          0.0480671,
          0.396879,
          0.380333,
          0.511672,
          0.604883,
          0.500591,
          0.349693,
          0.145133,
          0.476049,
          0.479063,
          0.312277,
          0.400495,
          0.195782,
          0.106211,
          0.61632,
          0.927737,
          0.0819866,
          0.674563,
          0.451821,
          0.569401,
          0.260784,
          0.472263,
          0.587864
         ],
         "z": [
          2167.3,
          2938.03,
          3094.28,
          3364.7,
          1633.81,
          2164.26,
          788.197,
          3730.71,
          2838.52,
          2909.95,
          2398.97,
          1932.79,
          2683.01,
          2710.62,
          2384.8,
          3209.23,
          273.783,
          465.817,
          953.375,
          2188.61,
          2325.5,
          3061.57,
          3675.1,
          2168.75,
          1019.59,
          3270.56,
          3471.42,
          3040.78,
          1743.9,
          3090.36,
          512.7,
          508.524,
          3003.3,
          979.678,
          1599.67,
          1050.83,
          3759.42,
          3880.97,
          2322.67,
          3070.5,
          472.626,
          3529.62,
          1293.51,
          3316.79,
          3278.46,
          1368.73,
          2349.74,
          3395.27,
          1634.02,
          1106.96,
          2848.67,
          466.105,
          2965.01,
          3234.26,
          2683.05,
          2929.75,
          1804,
          3283.18,
          2091.58,
          3520.37,
          1242.5,
          2025.35,
          2636.75,
          2274.88,
          1826.65,
          3160.53,
          3015.9,
          3189.19,
          2161.32,
          3371.7,
          3393.78,
          3118.17,
          2031.38,
          674.542,
          3297.62,
          1851.27,
          2949.82,
          1558.71,
          2782.95,
          942.721,
          3357.46,
          1649.1,
          460.216,
          1867.23,
          2150.51,
          2990.05,
          3058.23,
          3233.05,
          0,
          2538.17,
          1393,
          538.497,
          2857.23,
          3167.39,
          3799.37,
          2957.03,
          683.558,
          3671.65,
          2931.6,
          2156.74,
          2331.26,
          492.218,
          1836.67,
          2492.31,
          2989.42,
          249.833,
          3657.36,
          2299.01,
          1641.69,
          3291.75,
          2435.63,
          739.868,
          1579.29,
          491.051,
          3437.93,
          3389.75,
          2271.33,
          1216.27,
          1600.61,
          2178.75,
          1362.5,
          493.098,
          441.25,
          2624.51,
          3359.65,
          2396.64,
          3355.49,
          237.001,
          3058.42,
          1851.12,
          1024.3,
          2868.61,
          3400.36,
          3287.73,
          2377.52,
          229.642,
          241.885,
          1172.99,
          1729.15,
          2003.21,
          2309.74,
          3428.32,
          2541.53,
          3639.53,
          2464.01,
          3498.01,
          2333.41,
          2492.78,
          2034.45,
          3271.41,
          1609.73,
          2671.36,
          3077.2,
          3064.07,
          1571.38,
          3287.38,
          1842.72,
          2110.55,
          3140.77,
          2795.33,
          3530.4,
          668.545,
          884.324,
          296.331,
          2656.03,
          782.093,
          585.019,
          2305.75,
          1460.88,
          3340.71,
          471.455,
          2910.22,
          2398.4,
          515.207,
          2003.86,
          1350.42,
          503.371,
          2524,
          1231.73,
          1530.02,
          3375.49,
          1636.06,
          2620.74,
          2822.43,
          3927.05,
          3413.69,
          663.275,
          2369.45,
          2417.14,
          2258.27,
          3504.65,
          3345.22,
          879.393,
          1643.91,
          2313.13,
          2678.95,
          1491.91,
          756.583,
          412.99,
          1088.81
         ]
        },
        {
         "colorscale": [
          [
           0,
           "#89CFF0"
          ],
          [
           1,
           "#FFDB58"
          ]
         ],
         "scene": "scene",
         "type": "surface",
         "x": [
          426.93967734939787,
          1854.8854124605482,
          4141.735955107305
         ],
         "y": [
          0.0461485,
          0.44079425,
          0.927737
         ],
         "z": [
          [
           384.01312887972546,
           1661.19223460923,
           3706.3975980981854
          ],
          [
           384.01312887972546,
           1661.19223460923,
           3706.3975980981854
          ],
          [
           384.01312887972546,
           1661.19223460923,
           3706.3975980981854
          ]
         ]
        },
        {
         "hovertemplate": "x=%{x}<br>y=%{y}<extra></extra>",
         "legendgroup": "",
         "line": {
          "color": "#ff0000",
          "dash": "solid",
          "width": 3
         },
         "marker": {
          "symbol": "circle"
         },
         "mode": "lines",
         "name": "",
         "orientation": "v",
         "showlegend": false,
         "type": "scatter",
         "x": [
          0,
          1,
          2,
          3,
          4,
          5,
          6,
          7,
          8,
          9,
          10,
          11,
          12,
          13,
          14,
          15,
          16,
          17,
          18,
          19
         ],
         "xaxis": "x",
         "y": [
          4158.73046875,
          3750.119140625,
          3344.480224609375,
          2939.580810546875,
          2535.328369140625,
          2138.21044921875,
          1743.968994140625,
          1359.7431640625,
          996.0230102539062,
          680.078369140625,
          502.5590515136719,
          483.2182922363281,
          483.1817932128906,
          483.2413635253906,
          483.167724609375,
          483.1100158691406,
          483.19403076171875,
          483.11614990234375,
          483.1494445800781,
          483.11712646484375
         ],
         "yaxis": "y"
        }
       ],
       "layout": {
        "annotations": [
         {
          "font": {
           "size": 16
          },
          "showarrow": false,
          "text": "Loss Curve",
          "x": 0.225,
          "xanchor": "center",
          "xref": "paper",
          "y": 1,
          "yanchor": "bottom",
          "yref": "paper"
         },
         {
          "font": {
           "size": 16
          },
          "showarrow": false,
          "text": "Model Plot",
          "x": 0.775,
          "xanchor": "center",
          "xref": "paper",
          "y": 1,
          "yanchor": "bottom",
          "yref": "paper"
         }
        ],
        "scene": {
         "domain": {
          "x": [
           0.55,
           1
          ],
          "y": [
           0,
           1
          ]
         },
         "xaxis": {
          "title": {
           "text": "m_jj"
          }
         },
         "yaxis": {
          "title": {
           "text": "tau21_j1"
          }
         },
         "zaxis": {
          "title": {
           "text": "ht"
          }
         }
        },
        "template": {
         "data": {
          "bar": [
           {
            "error_x": {
             "color": "#2a3f5f"
            },
            "error_y": {
             "color": "#2a3f5f"
            },
            "marker": {
             "line": {
              "color": "#E5ECF6",
              "width": 0.5
             },
             "pattern": {
              "fillmode": "overlay",
              "size": 10,
              "solidity": 0.2
             }
            },
            "type": "bar"
           }
          ],
          "barpolar": [
           {
            "marker": {
             "line": {
              "color": "#E5ECF6",
              "width": 0.5
             },
             "pattern": {
              "fillmode": "overlay",
              "size": 10,
              "solidity": 0.2
             }
            },
            "type": "barpolar"
           }
          ],
          "carpet": [
           {
            "aaxis": {
             "endlinecolor": "#2a3f5f",
             "gridcolor": "white",
             "linecolor": "white",
             "minorgridcolor": "white",
             "startlinecolor": "#2a3f5f"
            },
            "baxis": {
             "endlinecolor": "#2a3f5f",
             "gridcolor": "white",
             "linecolor": "white",
             "minorgridcolor": "white",
             "startlinecolor": "#2a3f5f"
            },
            "type": "carpet"
           }
          ],
          "choropleth": [
           {
            "colorbar": {
             "outlinewidth": 0,
             "ticks": ""
            },
            "type": "choropleth"
           }
          ],
          "contour": [
           {
            "colorbar": {
             "outlinewidth": 0,
             "ticks": ""
            },
            "colorscale": [
             [
              0,
              "#0d0887"
             ],
             [
              0.1111111111111111,
              "#46039f"
             ],
             [
              0.2222222222222222,
              "#7201a8"
             ],
             [
              0.3333333333333333,
              "#9c179e"
             ],
             [
              0.4444444444444444,
              "#bd3786"
             ],
             [
              0.5555555555555556,
              "#d8576b"
             ],
             [
              0.6666666666666666,
              "#ed7953"
             ],
             [
              0.7777777777777778,
              "#fb9f3a"
             ],
             [
              0.8888888888888888,
              "#fdca26"
             ],
             [
              1,
              "#f0f921"
             ]
            ],
            "type": "contour"
           }
          ],
          "contourcarpet": [
           {
            "colorbar": {
             "outlinewidth": 0,
             "ticks": ""
            },
            "type": "contourcarpet"
           }
          ],
          "heatmap": [
           {
            "colorbar": {
             "outlinewidth": 0,
             "ticks": ""
            },
            "colorscale": [
             [
              0,
              "#0d0887"
             ],
             [
              0.1111111111111111,
              "#46039f"
             ],
             [
              0.2222222222222222,
              "#7201a8"
             ],
             [
              0.3333333333333333,
              "#9c179e"
             ],
             [
              0.4444444444444444,
              "#bd3786"
             ],
             [
              0.5555555555555556,
              "#d8576b"
             ],
             [
              0.6666666666666666,
              "#ed7953"
             ],
             [
              0.7777777777777778,
              "#fb9f3a"
             ],
             [
              0.8888888888888888,
              "#fdca26"
             ],
             [
              1,
              "#f0f921"
             ]
            ],
            "type": "heatmap"
           }
          ],
          "heatmapgl": [
           {
            "colorbar": {
             "outlinewidth": 0,
             "ticks": ""
            },
            "colorscale": [
             [
              0,
              "#0d0887"
             ],
             [
              0.1111111111111111,
              "#46039f"
             ],
             [
              0.2222222222222222,
              "#7201a8"
             ],
             [
              0.3333333333333333,
              "#9c179e"
             ],
             [
              0.4444444444444444,
              "#bd3786"
             ],
             [
              0.5555555555555556,
              "#d8576b"
             ],
             [
              0.6666666666666666,
              "#ed7953"
             ],
             [
              0.7777777777777778,
              "#fb9f3a"
             ],
             [
              0.8888888888888888,
              "#fdca26"
             ],
             [
              1,
              "#f0f921"
             ]
            ],
            "type": "heatmapgl"
           }
          ],
          "histogram": [
           {
            "marker": {
             "pattern": {
              "fillmode": "overlay",
              "size": 10,
              "solidity": 0.2
             }
            },
            "type": "histogram"
           }
          ],
          "histogram2d": [
           {
            "colorbar": {
             "outlinewidth": 0,
             "ticks": ""
            },
            "colorscale": [
             [
              0,
              "#0d0887"
             ],
             [
              0.1111111111111111,
              "#46039f"
             ],
             [
              0.2222222222222222,
              "#7201a8"
             ],
             [
              0.3333333333333333,
              "#9c179e"
             ],
             [
              0.4444444444444444,
              "#bd3786"
             ],
             [
              0.5555555555555556,
              "#d8576b"
             ],
             [
              0.6666666666666666,
              "#ed7953"
             ],
             [
              0.7777777777777778,
              "#fb9f3a"
             ],
             [
              0.8888888888888888,
              "#fdca26"
             ],
             [
              1,
              "#f0f921"
             ]
            ],
            "type": "histogram2d"
           }
          ],
          "histogram2dcontour": [
           {
            "colorbar": {
             "outlinewidth": 0,
             "ticks": ""
            },
            "colorscale": [
             [
              0,
              "#0d0887"
             ],
             [
              0.1111111111111111,
              "#46039f"
             ],
             [
              0.2222222222222222,
              "#7201a8"
             ],
             [
              0.3333333333333333,
              "#9c179e"
             ],
             [
              0.4444444444444444,
              "#bd3786"
             ],
             [
              0.5555555555555556,
              "#d8576b"
             ],
             [
              0.6666666666666666,
              "#ed7953"
             ],
             [
              0.7777777777777778,
              "#fb9f3a"
             ],
             [
              0.8888888888888888,
              "#fdca26"
             ],
             [
              1,
              "#f0f921"
             ]
            ],
            "type": "histogram2dcontour"
           }
          ],
          "mesh3d": [
           {
            "colorbar": {
             "outlinewidth": 0,
             "ticks": ""
            },
            "type": "mesh3d"
           }
          ],
          "parcoords": [
           {
            "line": {
             "colorbar": {
              "outlinewidth": 0,
              "ticks": ""
             }
            },
            "type": "parcoords"
           }
          ],
          "pie": [
           {
            "automargin": true,
            "type": "pie"
           }
          ],
          "scatter": [
           {
            "fillpattern": {
             "fillmode": "overlay",
             "size": 10,
             "solidity": 0.2
            },
            "type": "scatter"
           }
          ],
          "scatter3d": [
           {
            "line": {
             "colorbar": {
              "outlinewidth": 0,
              "ticks": ""
             }
            },
            "marker": {
             "colorbar": {
              "outlinewidth": 0,
              "ticks": ""
             }
            },
            "type": "scatter3d"
           }
          ],
          "scattercarpet": [
           {
            "marker": {
             "colorbar": {
              "outlinewidth": 0,
              "ticks": ""
             }
            },
            "type": "scattercarpet"
           }
          ],
          "scattergeo": [
           {
            "marker": {
             "colorbar": {
              "outlinewidth": 0,
              "ticks": ""
             }
            },
            "type": "scattergeo"
           }
          ],
          "scattergl": [
           {
            "marker": {
             "colorbar": {
              "outlinewidth": 0,
              "ticks": ""
             }
            },
            "type": "scattergl"
           }
          ],
          "scattermapbox": [
           {
            "marker": {
             "colorbar": {
              "outlinewidth": 0,
              "ticks": ""
             }
            },
            "type": "scattermapbox"
           }
          ],
          "scatterpolar": [
           {
            "marker": {
             "colorbar": {
              "outlinewidth": 0,
              "ticks": ""
             }
            },
            "type": "scatterpolar"
           }
          ],
          "scatterpolargl": [
           {
            "marker": {
             "colorbar": {
              "outlinewidth": 0,
              "ticks": ""
             }
            },
            "type": "scatterpolargl"
           }
          ],
          "scatterternary": [
           {
            "marker": {
             "colorbar": {
              "outlinewidth": 0,
              "ticks": ""
             }
            },
            "type": "scatterternary"
           }
          ],
          "surface": [
           {
            "colorbar": {
             "outlinewidth": 0,
             "ticks": ""
            },
            "colorscale": [
             [
              0,
              "#0d0887"
             ],
             [
              0.1111111111111111,
              "#46039f"
             ],
             [
              0.2222222222222222,
              "#7201a8"
             ],
             [
              0.3333333333333333,
              "#9c179e"
             ],
             [
              0.4444444444444444,
              "#bd3786"
             ],
             [
              0.5555555555555556,
              "#d8576b"
             ],
             [
              0.6666666666666666,
              "#ed7953"
             ],
             [
              0.7777777777777778,
              "#fb9f3a"
             ],
             [
              0.8888888888888888,
              "#fdca26"
             ],
             [
              1,
              "#f0f921"
             ]
            ],
            "type": "surface"
           }
          ],
          "table": [
           {
            "cells": {
             "fill": {
              "color": "#EBF0F8"
             },
             "line": {
              "color": "white"
             }
            },
            "header": {
             "fill": {
              "color": "#C8D4E3"
             },
             "line": {
              "color": "white"
             }
            },
            "type": "table"
           }
          ]
         },
         "layout": {
          "annotationdefaults": {
           "arrowcolor": "#2a3f5f",
           "arrowhead": 0,
           "arrowwidth": 1
          },
          "autotypenumbers": "strict",
          "coloraxis": {
           "colorbar": {
            "outlinewidth": 0,
            "ticks": ""
           }
          },
          "colorscale": {
           "diverging": [
            [
             0,
             "#8e0152"
            ],
            [
             0.1,
             "#c51b7d"
            ],
            [
             0.2,
             "#de77ae"
            ],
            [
             0.3,
             "#f1b6da"
            ],
            [
             0.4,
             "#fde0ef"
            ],
            [
             0.5,
             "#f7f7f7"
            ],
            [
             0.6,
             "#e6f5d0"
            ],
            [
             0.7,
             "#b8e186"
            ],
            [
             0.8,
             "#7fbc41"
            ],
            [
             0.9,
             "#4d9221"
            ],
            [
             1,
             "#276419"
            ]
           ],
           "sequential": [
            [
             0,
             "#0d0887"
            ],
            [
             0.1111111111111111,
             "#46039f"
            ],
            [
             0.2222222222222222,
             "#7201a8"
            ],
            [
             0.3333333333333333,
             "#9c179e"
            ],
            [
             0.4444444444444444,
             "#bd3786"
            ],
            [
             0.5555555555555556,
             "#d8576b"
            ],
            [
             0.6666666666666666,
             "#ed7953"
            ],
            [
             0.7777777777777778,
             "#fb9f3a"
            ],
            [
             0.8888888888888888,
             "#fdca26"
            ],
            [
             1,
             "#f0f921"
            ]
           ],
           "sequentialminus": [
            [
             0,
             "#0d0887"
            ],
            [
             0.1111111111111111,
             "#46039f"
            ],
            [
             0.2222222222222222,
             "#7201a8"
            ],
            [
             0.3333333333333333,
             "#9c179e"
            ],
            [
             0.4444444444444444,
             "#bd3786"
            ],
            [
             0.5555555555555556,
             "#d8576b"
            ],
            [
             0.6666666666666666,
             "#ed7953"
            ],
            [
             0.7777777777777778,
             "#fb9f3a"
            ],
            [
             0.8888888888888888,
             "#fdca26"
            ],
            [
             1,
             "#f0f921"
            ]
           ]
          },
          "colorway": [
           "#636efa",
           "#EF553B",
           "#00cc96",
           "#ab63fa",
           "#FFA15A",
           "#19d3f3",
           "#FF6692",
           "#B6E880",
           "#FF97FF",
           "#FECB52"
          ],
          "font": {
           "color": "#2a3f5f"
          },
          "geo": {
           "bgcolor": "white",
           "lakecolor": "white",
           "landcolor": "#E5ECF6",
           "showlakes": true,
           "showland": true,
           "subunitcolor": "white"
          },
          "hoverlabel": {
           "align": "left"
          },
          "hovermode": "closest",
          "mapbox": {
           "style": "light"
          },
          "paper_bgcolor": "white",
          "plot_bgcolor": "#E5ECF6",
          "polar": {
           "angularaxis": {
            "gridcolor": "white",
            "linecolor": "white",
            "ticks": ""
           },
           "bgcolor": "#E5ECF6",
           "radialaxis": {
            "gridcolor": "white",
            "linecolor": "white",
            "ticks": ""
           }
          },
          "scene": {
           "xaxis": {
            "backgroundcolor": "#E5ECF6",
            "gridcolor": "white",
            "gridwidth": 2,
            "linecolor": "white",
            "showbackground": true,
            "ticks": "",
            "zerolinecolor": "white"
           },
           "yaxis": {
            "backgroundcolor": "#E5ECF6",
            "gridcolor": "white",
            "gridwidth": 2,
            "linecolor": "white",
            "showbackground": true,
            "ticks": "",
            "zerolinecolor": "white"
           },
           "zaxis": {
            "backgroundcolor": "#E5ECF6",
            "gridcolor": "white",
            "gridwidth": 2,
            "linecolor": "white",
            "showbackground": true,
            "ticks": "",
            "zerolinecolor": "white"
           }
          },
          "shapedefaults": {
           "line": {
            "color": "#2a3f5f"
           }
          },
          "ternary": {
           "aaxis": {
            "gridcolor": "white",
            "linecolor": "white",
            "ticks": ""
           },
           "baxis": {
            "gridcolor": "white",
            "linecolor": "white",
            "ticks": ""
           },
           "bgcolor": "#E5ECF6",
           "caxis": {
            "gridcolor": "white",
            "linecolor": "white",
            "ticks": ""
           }
          },
          "title": {
           "x": 0.05
          },
          "xaxis": {
           "automargin": true,
           "gridcolor": "white",
           "linecolor": "white",
           "ticks": "",
           "title": {
            "standoff": 15
           },
           "zerolinecolor": "white",
           "zerolinewidth": 2
          },
          "yaxis": {
           "automargin": true,
           "gridcolor": "white",
           "linecolor": "white",
           "ticks": "",
           "title": {
            "standoff": 15
           },
           "zerolinecolor": "white",
           "zerolinewidth": 2
          }
         }
        },
        "xaxis": {
         "anchor": "y",
         "domain": [
          0,
          0.45
         ],
         "title": {
          "text": "Epoch"
         }
        },
        "yaxis": {
         "anchor": "x",
         "domain": [
          0,
          1
         ],
         "range": [
          386.48801269531253,
          4158.73046875
         ],
         "title": {
          "text": "Root Mean Squared Error"
         }
        }
       }
      }
     },
     "metadata": {},
     "output_type": "display_data"
    }
   ],
   "source": [
    "#@title Code - Experiment 1\n",
    "\n",
    "# The following variables are the hyperparameters.\n",
    "learning_rate = 0.001\n",
    "epochs = 20\n",
    "batch_size = 50\n",
    "\n",
    "# Specify the feature and the label.\n",
    "features = [\"m_jj\", \"tau21_j1\", \"tau21_j2\", \"tau32_j1\", \"tau32_j2\"]\n",
    "#label = [\"ht\", \"met\"]\n",
    "label = \"ht\"\n",
    "\n",
    "model_1 = run_experiment(training_df, features, label, learning_rate, epochs, batch_size)"
   ]
  },
  {
   "cell_type": "code",
   "execution_count": 33,
   "metadata": {},
   "outputs": [],
   "source": [
    "#@title Code - Define functions to make predictions\n",
    "def format_currency(x):\n",
    "  return \"${:.2f}\".format(x)\n",
    "\n",
    "def build_batch(df, batch_size):\n",
    "  batch = df.sample(n=batch_size).copy()\n",
    "  batch.set_index(np.arange(batch_size), inplace=True)\n",
    "  return batch\n",
    "\n",
    "def predict_fare(model, df, features, label, batch_size=50):\n",
    "  batch = build_batch(df, batch_size)\n",
    "  predicted_values = model.predict_on_batch(x=batch.loc[:, features].values)\n",
    "\n",
    "  data = {f\"PREDICTED_{label}\": [], f\"OBSERVED_{label}\": [], \"L1_LOSS\": [],\n",
    "          features[0]: [], features[1]: []}\n",
    "  for i in range(batch_size):\n",
    "    predicted = predicted_values[i][0]\n",
    "    observed = batch.at[i, label]\n",
    "    data[f\"PREDICTED_{label}\"].append((predicted))\n",
    "    data[f\"OBSERVED_{label}\"].append((observed))\n",
    "    data[\"L1_LOSS\"].append((abs(observed - predicted)))\n",
    "    data[features[0]].append(batch.at[i, features[0]])\n",
    "    data[features[1]].append(\"{:.2f}\".format(batch.at[i, features[1]]))\n",
    "\n",
    "  output_df = pd.DataFrame(data)\n",
    "  return output_df\n",
    "\n",
    "def show_predictions(output):\n",
    "  header = \"-\" * 80\n",
    "  banner = header + \"\\n\" + \"|\" + \"PREDICTIONS\".center(78) + \"|\" + \"\\n\" + header\n",
    "  print(banner)\n",
    "  print(output)\n",
    "  return"
   ]
  },
  {
   "cell_type": "code",
   "execution_count": 34,
   "metadata": {},
   "outputs": [
    {
     "name": "stdout",
     "output_type": "stream",
     "text": [
      "--------------------------------------------------------------------------------\n",
      "|                                 PREDICTIONS                                  |\n",
      "--------------------------------------------------------------------------------\n",
      "    PREDICTED_ht  OBSERVED_ht      L1_LOSS      m_jj tau21_j1\n",
      "0    3313.413086     3235.420    77.993086  3701.050     0.58\n",
      "1    3224.152588     3426.890   202.737412  3600.970     0.06\n",
      "2    2141.440918     1601.290   540.150918  2388.160     0.66\n",
      "3    2283.785400     2815.630   531.844600  2548.440     0.16\n",
      "4    3210.385498     3474.200   263.814502  3585.250     0.39\n",
      "5    3097.617676     3294.350   196.732324  3458.330     0.11\n",
      "6    1271.550659     1004.580   266.970659  1416.140     0.38\n",
      "7     653.122742      525.294   127.828742   722.824     0.72\n",
      "8    2999.077393     3399.880   400.802607  3347.280     0.89\n",
      "9    1362.716431     1335.960    26.756431  1516.900     0.82\n",
      "10   2240.127197     2544.650   304.522803  2498.440     0.79\n",
      "11   3414.628418     3044.240   370.388418  3813.480     0.40\n",
      "12   2569.885010     1867.250   702.635010  2867.300     0.50\n",
      "13   2176.700684     3060.190   883.489316  2428.820     0.05\n",
      "14   2885.447754     2644.290   241.157754  3221.640     0.13\n",
      "15   2828.157227     2605.430   222.727227  3158.400     0.06\n",
      "16   2596.624023     2344.870   251.754023  2898.000     0.62\n",
      "17   1139.261963     1216.370    77.108037  1267.170     0.86\n",
      "18   3723.465088     3548.730   174.735088  4159.070     0.40\n",
      "19   3226.047852     3321.580    95.532148  3602.690     0.50\n",
      "20    538.305359      340.903   197.402359   594.473     0.87\n",
      "21   2378.565918     1701.310   677.255918  2654.080     0.51\n",
      "22   3265.669678     3519.930   254.260322  3647.250     0.43\n",
      "23   1686.976196     1917.800   230.823804  1880.790     0.31\n",
      "24    461.997986      512.272    50.274014   510.631     0.45\n",
      "25   2408.744629     2739.420   330.675371  2687.470     0.28\n",
      "26   1646.893433      996.586   650.307433  1834.760     0.42\n",
      "27   3258.819336     3361.780   102.960664  3639.310     0.12\n",
      "28   1770.664673     1824.890    54.225327  1974.180     0.62\n",
      "29   1507.760864     1092.770   414.990864  1679.880     0.44\n",
      "30   2177.964600     3194.060  1016.095400  2430.190     0.23\n",
      "31    491.708649      310.950   180.758649   542.715     0.88\n",
      "32    464.387848      287.328   177.059848   512.298     0.57\n",
      "33   2620.787354     2019.000   601.787354  2924.790     0.33\n",
      "34   2104.822266     1005.820  1099.002266  2347.520     0.23\n",
      "35   2777.824707     3452.870   675.045293  3101.310     0.15\n",
      "36   2558.188477     2396.200   161.988477  2855.580     0.27\n",
      "37   2161.705811     2116.780    44.925811  2411.930     0.51\n",
      "38   3700.914062     3325.930   374.984063  4133.900     0.28\n",
      "39   2849.904541     2508.880   341.024541  3180.730     0.35\n",
      "40   3433.547852     3775.700   342.152148  3834.990     0.23\n",
      "41   2314.146973     2421.830   107.683027  2583.150     0.55\n",
      "42   1847.884888     1920.420    72.535112  2059.890     0.48\n",
      "43    451.317719      497.880    46.562281   498.212     0.45\n",
      "44   2263.648926     1842.720   420.928926  2524.730     0.86\n",
      "45   1238.111206     1620.440   382.328794  1379.100     0.15\n",
      "46   2014.739136     2550.530   535.790864  2247.190     0.08\n",
      "47   2288.971680     2750.260   461.288320  2554.620     0.18\n",
      "48    864.669678      932.897    68.227322   960.725     0.20\n",
      "49   2960.122070     3250.080   289.957930  3305.340     0.17\n"
     ]
    }
   ],
   "source": [
    "#@title Code - Make predictions\n",
    "\n",
    "output = predict_fare(model_1, training_df, features, label)\n",
    "show_predictions(output)"
   ]
  }
 ],
 "metadata": {
  "kernelspec": {
   "display_name": "Python 3",
   "language": "python",
   "name": "python3"
  },
  "language_info": {
   "codemirror_mode": {
    "name": "ipython",
    "version": 3
   },
   "file_extension": ".py",
   "mimetype": "text/x-python",
   "name": "python",
   "nbconvert_exporter": "python",
   "pygments_lexer": "ipython3",
   "version": "3.12.2"
  }
 },
 "nbformat": 4,
 "nbformat_minor": 2
}
